{
 "cells": [
  {
   "cell_type": "markdown",
   "metadata": {},
   "source": [
    "# Import"
   ]
  },
  {
   "cell_type": "code",
   "execution_count": 1,
   "metadata": {
    "ExecuteTime": {
     "end_time": "2021-07-21T13:22:39.023549Z",
     "start_time": "2021-07-21T13:22:31.163201Z"
    }
   },
   "outputs": [],
   "source": [
    "import EpiAnno\n",
    "import os\n",
    "import tensorflow as tf\n",
    "import hickle as hkl\n",
    "from tensorflow_probability import edward2 as ed\n",
    "import numpy as np\n",
    "import hdf5storage\n",
    "from sklearn import preprocessing\n",
    "import warnings\n",
    "warnings.filterwarnings(\"ignore\")"
   ]
  },
  {
   "cell_type": "markdown",
   "metadata": {
    "ExecuteTime": {
     "end_time": "2021-07-21T06:24:43.599421Z",
     "start_time": "2021-07-21T06:24:43.592986Z"
    }
   },
   "source": [
    "# Load data"
   ]
  },
  {
   "cell_type": "code",
   "execution_count": 2,
   "metadata": {
    "ExecuteTime": {
     "end_time": "2021-07-21T13:22:39.525750Z",
     "start_time": "2021-07-21T13:22:39.026838Z"
    }
   },
   "outputs": [],
   "source": [
    "data_forebrain = hdf5storage.loadmat('../data/train_forebrain.mat')\n",
    "train_data = data_forebrain['sc_mat']\n",
    "train_label = data_forebrain['sc_label']\n",
    "le = preprocessing.LabelEncoder()\n",
    "train_target = le.fit_transform(train_label)"
   ]
  },
  {
   "cell_type": "code",
   "execution_count": 3,
   "metadata": {
    "ExecuteTime": {
     "end_time": "2021-07-21T13:22:43.976345Z",
     "start_time": "2021-07-21T13:22:39.532712Z"
    }
   },
   "outputs": [],
   "source": [
    "data_cerebellum = hdf5storage.loadmat('../data/test_cerebellum.mat')\n",
    "cerebellum_data = data_cerebellum['sc_mat']\n",
    "cerebellum_label = data_cerebellum['sc_label']\n",
    "data_wholebrain1 = hdf5storage.loadmat('../data/test_wholebrain1.mat')\n",
    "wholebrain1_data = data_wholebrain1['sc_mat']\n",
    "wholebrain1_label = data_wholebrain1['sc_label']\n",
    "data_wholebrain2 = hdf5storage.loadmat('../data/test_wholebrain2.mat')\n",
    "wholebrain2_data = data_wholebrain2['sc_mat']\n",
    "wholebrain2_label = data_wholebrain2['sc_label']\n",
    "#data_prefrontalcortex = hdf5storage.loadmat('../data/test_prefrontalcortex.mat')\n",
    "#prefrontalcortex_data = data_prefrontalcortex['sc_mat']\n",
    "#prefrontalcortex_label = data_prefrontalcortex['sc_label']"
   ]
  },
  {
   "cell_type": "code",
   "execution_count": 4,
   "metadata": {
    "ExecuteTime": {
     "end_time": "2021-07-21T13:22:43.985908Z",
     "start_time": "2021-07-21T13:22:43.979848Z"
    }
   },
   "outputs": [],
   "source": [
    "cerebellum_target = le.transform(cerebellum_label)\n",
    "wholebrain1_target = le.transform(wholebrain1_label)\n",
    "wholebrain2_target = le.transform(wholebrain2_label)\n",
    "#prefrontalcortex_target = le.transform(prefrontalcortex_label)"
   ]
  },
  {
   "cell_type": "markdown",
   "metadata": {},
   "source": [
    "create data_train for training"
   ]
  },
  {
   "cell_type": "code",
   "execution_count": 5,
   "metadata": {
    "ExecuteTime": {
     "end_time": "2021-07-21T13:22:44.533528Z",
     "start_time": "2021-07-21T13:22:43.988787Z"
    }
   },
   "outputs": [],
   "source": [
    "dtype = np.float32\n",
    "n_classes = max(train_target)+1\n",
    "Data = {i: np.array(train_data[train_target == i,:])  for i in range(n_classes)}\n",
    "sample_shape = {i: sum(train_target == i)  for i in range(n_classes)}# sample_shape for each class\n",
    "data_train = Data[0]\n",
    "for i in range(n_classes-1):\n",
    "    data_train=np.vstack((data_train,Data[i+1]))"
   ]
  },
  {
   "cell_type": "markdown",
   "metadata": {},
   "source": [
    "# Train EpiAnno model"
   ]
  },
  {
   "cell_type": "code",
   "execution_count": 6,
   "metadata": {
    "ExecuteTime": {
     "end_time": "2021-07-21T13:22:44.542704Z",
     "start_time": "2021-07-21T13:22:44.536940Z"
    }
   },
   "outputs": [],
   "source": [
    "seed = 1024\n",
    "np.random.seed(seed)\n",
    "tf.set_random_seed(seed)\n",
    "latent_dim = 10\n",
    "learning_rate = 0.015\n",
    "num_epochs = 60000\n",
    "verbose = True"
   ]
  },
  {
   "cell_type": "markdown",
   "metadata": {},
   "source": [
    "get Variables of EpiAnno"
   ]
  },
  {
   "cell_type": "code",
   "execution_count": 7,
   "metadata": {
    "ExecuteTime": {
     "end_time": "2021-07-21T13:22:44.926458Z",
     "start_time": "2021-07-21T13:22:44.545342Z"
    }
   },
   "outputs": [
    {
     "name": "stdout",
     "output_type": "stream",
     "text": [
      "WARNING:tensorflow:From /home/chenxiaoyang/anaconda3/envs/newtf/lib/python3.6/site-packages/tensorflow_probability/python/distributions/distribution.py:274: calling InverseGamma.__init__ (from tensorflow_probability.python.distributions.inverse_gamma) with rate is deprecated and will be removed after 2019-05-08.\n",
      "Instructions for updating:\n",
      "The `rate` parameter is deprecated. Use `scale` instead.The `rate` parameter was always interpreted as a `scale` parameter, but erroneously misnamed.\n"
     ]
    }
   ],
   "source": [
    "qmu , qsigma,qz,qw,qnoise = EpiAnno.Q(latent_dim,data_train.shape[1],n_classes,sample_shape)\n",
    "qmu_dict = {v.distribution.name.split(\"_\")[0].split(\"/\")[0][1:]: v for v in qmu}\n",
    "qw_dict = {v.distribution.name.split(\"_\")[0].split(\"/\")[0][1:]: v for v in qw}\n",
    "qz_dict = {v.distribution.name.split(\"_\")[0].split(\"/\")[0][1:]: v for v in qz}"
   ]
  },
  {
   "cell_type": "markdown",
   "metadata": {},
   "source": [
    "set Variables to EpiAnnp, then get the ELBO"
   ]
  },
  {
   "cell_type": "code",
   "execution_count": 8,
   "metadata": {
    "ExecuteTime": {
     "end_time": "2021-07-21T13:22:46.088697Z",
     "start_time": "2021-07-21T13:22:44.932681Z"
    }
   },
   "outputs": [],
   "source": [
    "with ed.interception(EpiAnno.set_values(**qmu_dict,sigma=qsigma,**qw_dict,x = data_train,\\\n",
    "                                          **qz_dict,noise = qnoise)):\n",
    "        pmu,psigma,pz,pw,pnoise,px = EpiAnno.EpiAnno(10,data_train.shape[1],n_classes,sample_shape)\n",
    "elbo = EpiAnno.ELBO(pmu,psigma,pz,pw,pnoise,px,qmu , qsigma,qz,qw,qnoise,data_train.shape[1],data_train.shape[0])"
   ]
  },
  {
   "cell_type": "markdown",
   "metadata": {},
   "source": [
    "set gpu_use and train the EpiAnno model, then get the last 1000 parameters of the model from training"
   ]
  },
  {
   "cell_type": "code",
   "execution_count": 9,
   "metadata": {
    "ExecuteTime": {
     "end_time": "2021-07-21T13:33:05.196226Z",
     "start_time": "2021-07-21T13:22:46.092004Z"
    }
   },
   "outputs": [
    {
     "name": "stdout",
     "output_type": "stream",
     "text": [
      "WARNING:tensorflow:From /home/chenxiaoyang/program/EpiAnno/code/EpiAnno.py:98: The name tf.train.AdamOptimizer is deprecated. Please use tf.compat.v1.train.AdamOptimizer instead.\n",
      "\n",
      "WARNING:tensorflow:From /home/chenxiaoyang/anaconda3/envs/newtf/lib/python3.6/site-packages/tensorflow_core/python/ops/math_grad.py:1424: where (from tensorflow.python.ops.array_ops) is deprecated and will be removed in a future version.\n",
      "Instructions for updating:\n",
      "Use tf.where in 2.0, which has the same broadcast rule as np.where\n",
      "WARNING:tensorflow:From /home/chenxiaoyang/program/EpiAnno/code/EpiAnno.py:100: The name tf.global_variables_initializer is deprecated. Please use tf.compat.v1.global_variables_initializer instead.\n",
      "\n",
      ".\n",
      "0 epochs\t-1494638.208 k..........\n",
      "100 epochs\t-1191966.08 k..........\n",
      "200 epochs\t-1396246.528 k..........\n",
      "300 epochs\t-8917877784.576 k..........\n",
      "400 epochs\t-296787.584 k..........\n",
      "500 epochs\t-1057086701.568 k..........\n",
      "600 epochs\t-123262.072 k..........\n",
      "700 epochs\t-68167.12 k..........\n",
      "800 epochs\t-37653.136 k..........\n",
      "900 epochs\t-61849.58 k..........\n",
      "1000 epochs\t-40918.996 k..........\n",
      "1100 epochs\t-323312.448 k..........\n",
      "1200 epochs\t-133571.48 k..........\n",
      "1300 epochs\t-143634.992 k..........\n",
      "1400 epochs\t-4859942.4 k..........\n",
      "1500 epochs\t-383142.72 k..........\n",
      "1600 epochs\t-101823.656 k..........\n",
      "1700 epochs\t-43359.952 k..........\n",
      "1800 epochs\t-44924.976 k..........\n",
      "1900 epochs\t-71334.496 k..........\n",
      "2000 epochs\t-34818.784 k..........\n",
      "2100 epochs\t-74387.928 k..........\n",
      "2200 epochs\t-36586.808 k..........\n",
      "2300 epochs\t-3556636.672 k..........\n",
      "2400 epochs\t-27797.094 k..........\n",
      "2500 epochs\t-269262.656 k..........\n",
      "2600 epochs\t-1037891.904 k..........\n",
      "2700 epochs\t-38674.496 k..........\n",
      "2800 epochs\t-117561.64 k..........\n",
      "2900 epochs\t-25436.696 k..........\n",
      "3000 epochs\t-106800.288 k..........\n",
      "3100 epochs\t-131803.32 k..........\n",
      "3200 epochs\t-71554.64 k..........\n",
      "3300 epochs\t-534097.6 k..........\n",
      "3400 epochs\t-53515.572 k..........\n",
      "3500 epochs\t-30646.394 k..........\n",
      "3600 epochs\t-548303.232 k..........\n",
      "3700 epochs\t-1289318.016 k..........\n",
      "3800 epochs\t-35937.168 k..........\n",
      "3900 epochs\t-36499.836 k..........\n",
      "4000 epochs\t-61328.736 k..........\n",
      "4100 epochs\t-45847.488 k..........\n",
      "4200 epochs\t-58773.552 k..........\n",
      "4300 epochs\t-34168.528 k..........\n",
      "4400 epochs\t-64314.624 k..........\n",
      "4500 epochs\t-44407.656 k..........\n",
      "4600 epochs\t-33832.984 k..........\n",
      "4700 epochs\t-36079.4 k..........\n",
      "4800 epochs\t-48974.28 k..........\n",
      "4900 epochs\t-30600.996 k..........\n",
      "5000 epochs\t-2037010.048 k..........\n",
      "5100 epochs\t-28945.044 k..........\n",
      "5200 epochs\t-82051.872 k..........\n",
      "5300 epochs\t-122717.28 k..........\n",
      "5400 epochs\t-35722.792 k..........\n",
      "5500 epochs\t-48101.732 k..........\n",
      "5600 epochs\t-30257.198 k..........\n",
      "5700 epochs\t-24168.258 k..........\n",
      "5800 epochs\t-28258.09 k..........\n",
      "5900 epochs\t-99993.728 k..........\n",
      "6000 epochs\t-108093.608 k..........\n",
      "6100 epochs\t-20903.624 k..........\n",
      "6200 epochs\t-76148.76 k..........\n",
      "6300 epochs\t-125824.408 k..........\n",
      "6400 epochs\t-49776.484 k..........\n",
      "6500 epochs\t-55978.896 k..........\n",
      "6600 epochs\t-312607.136 k..........\n",
      "6700 epochs\t-53286.224 k..........\n",
      "6800 epochs\t-20814.008 k..........\n",
      "6900 epochs\t-58367.068 k..........\n",
      "7000 epochs\t-76453.056 k..........\n",
      "7100 epochs\t-21928.828 k..........\n",
      "7200 epochs\t-22770.09 k..........\n",
      "7300 epochs\t-99092.576 k..........\n",
      "7400 epochs\t-37746.428 k..........\n",
      "7500 epochs\t-39556.42 k..........\n",
      "7600 epochs\t-27551.688 k..........\n",
      "7700 epochs\t-43908.464 k..........\n",
      "7800 epochs\t-43618.376 k..........\n",
      "7900 epochs\t-81477.528 k..........\n",
      "8000 epochs\t-42865.708 k..........\n",
      "8100 epochs\t-63363.084 k..........\n",
      "8200 epochs\t-58408.948 k..........\n",
      "8300 epochs\t-16909.038 k..........\n",
      "8400 epochs\t-101095.36 k..........\n",
      "8500 epochs\t-45584.58 k..........\n",
      "8600 epochs\t-99422.024 k..........\n",
      "8700 epochs\t-19036.23 k..........\n",
      "8800 epochs\t-85665.128 k..........\n",
      "8900 epochs\t-690113.344 k..........\n",
      "9000 epochs\t-45295.86 k..........\n",
      "9100 epochs\t-18166.65 k..........\n",
      "9200 epochs\t-101721.856 k..........\n",
      "9300 epochs\t-57937.504 k..........\n",
      "9400 epochs\t-42189.364 k..........\n",
      "9500 epochs\t-62771.072 k..........\n",
      "9600 epochs\t-57886.648 k..........\n",
      "9700 epochs\t-39976.272 k..........\n",
      "9800 epochs\t-78379.136 k..........\n",
      "9900 epochs\t-27406.202 k..........\n",
      "10000 epochs\t-45268.736 k..........\n",
      "10100 epochs\t-32992.578 k..........\n",
      "10200 epochs\t-91836.704 k..........\n",
      "10300 epochs\t-100968.44 k..........\n",
      "10400 epochs\t-19765.84 k..........\n",
      "10500 epochs\t-19834.762 k..........\n",
      "10600 epochs\t-39125.788 k..........\n",
      "10700 epochs\t-78951.32 k..........\n",
      "10800 epochs\t-70046.232 k..........\n",
      "10900 epochs\t-115974.128 k..........\n",
      "11000 epochs\t-34757.148 k..........\n",
      "11100 epochs\t-10445.572 k..........\n",
      "11200 epochs\t-33200.736 k..........\n",
      "11300 epochs\t-73786.512 k..........\n",
      "11400 epochs\t-18684.072 k..........\n",
      "11500 epochs\t-9629.622 k..........\n",
      "11600 epochs\t-10812.096 k..........\n",
      "11700 epochs\t-75229.144 k..........\n",
      "11800 epochs\t-18005.126 k..........\n",
      "11900 epochs\t-15481.57 k..........\n",
      "12000 epochs\t-80819.256 k..........\n",
      "12100 epochs\t-47776.584 k..........\n",
      "12200 epochs\t-21623.71 k..........\n",
      "12300 epochs\t-42422.448 k..........\n",
      "12400 epochs\t-75924.512 k..........\n",
      "12500 epochs\t-16930.148 k..........\n",
      "12600 epochs\t-12028.67 k..........\n",
      "12700 epochs\t-90913.432 k..........\n",
      "12800 epochs\t-22860.926 k..........\n",
      "12900 epochs\t-77684.184 k..........\n",
      "13000 epochs\t-52270.844 k..........\n",
      "13100 epochs\t-123378.384 k..........\n",
      "13200 epochs\t-27591.418 k..........\n",
      "13300 epochs\t-73139.064 k..........\n",
      "13400 epochs\t-70728.528 k..........\n",
      "13500 epochs\t-8767.736 k..........\n",
      "13600 epochs\t-17455.33 k..........\n",
      "13700 epochs\t-55920.196 k..........\n",
      "13800 epochs\t-40629.444 k..........\n",
      "13900 epochs\t-80414.768 k..........\n",
      "14000 epochs\t-15794.498 k..........\n",
      "14100 epochs\t-40115.404 k..........\n",
      "14200 epochs\t-87408.72 k..........\n",
      "14300 epochs\t-154961.52 k..........\n",
      "14400 epochs\t-29490.396 k..........\n",
      "14500 epochs\t-18409.26 k..........\n",
      "14600 epochs\t-42892.58 k..........\n",
      "14700 epochs\t-61857.264 k..........\n",
      "14800 epochs\t-33351.932 k..........\n",
      "14900 epochs\t-91327.936 k..........\n",
      "15000 epochs\t-41362.356 k..........\n",
      "15100 epochs\t-57886.52 k..........\n",
      "15200 epochs\t-110618.424 k..........\n",
      "15300 epochs\t-12285.618 k..........\n",
      "15400 epochs\t-53188.228 k..........\n",
      "15500 epochs\t-44832.612 k..........\n",
      "15600 epochs\t-41914.76 k..........\n",
      "15700 epochs\t-29039.422 k..........\n",
      "15800 epochs\t-9401.864 k..........\n",
      "15900 epochs\t-33188.788 k..........\n",
      "16000 epochs\t-56212.756 k..........\n",
      "16100 epochs\t-67972.2 k..........\n",
      "16200 epochs\t-32679.464 k..........\n",
      "16300 epochs\t-47106.88 k..........\n",
      "16400 epochs\t-50119.116 k..........\n",
      "16500 epochs\t-12853.944 k..........\n",
      "16600 epochs\t-64313.248 k..........\n",
      "16700 epochs\t-15827.574 k..........\n",
      "16800 epochs\t-40266.164 k..........\n",
      "16900 epochs\t-13171.272 k..........\n",
      "17000 epochs\t-18871.042 k..........\n",
      "17100 epochs\t-75158.104 k..........\n",
      "17200 epochs\t-115945.368 k..........\n",
      "17300 epochs\t-20137.71 k..........\n",
      "17400 epochs\t-29783.58 k..........\n",
      "17500 epochs\t-100350.112 k..........\n",
      "17600 epochs\t-54049.408 k..........\n",
      "17700 epochs\t-72635.72 k..........\n",
      "17800 epochs\t-21725.648 k..........\n",
      "17900 epochs\t-36288.344 k..........\n",
      "18000 epochs\t-15648.204 k..........\n",
      "18100 epochs\t-24288.686 k..........\n",
      "18200 epochs\t-13074.184 k..........\n",
      "18300 epochs\t-80107.984 k..........\n",
      "18400 epochs\t-41573.816 k..........\n",
      "18500 epochs\t-83420.384 k..........\n",
      "18600 epochs\t-64774.672 k..........\n",
      "18700 epochs\t-31251.686 k..........\n",
      "18800 epochs\t-26169.938 k..........\n",
      "18900 epochs\t-22047.692 k..........\n",
      "19000 epochs\t-59860.216 k..........\n",
      "19100 epochs\t-52996.964 k..........\n",
      "19200 epochs\t-32661.842 k..........\n",
      "19300 epochs\t-26620.726 k..........\n",
      "19400 epochs\t-33401.048 k..........\n",
      "19500 epochs\t-30744.858 k..........\n",
      "19600 epochs\t-20199.174 k..........\n",
      "19700 epochs\t-104681.824 k..........\n",
      "19800 epochs\t-37885.576 k..........\n",
      "19900 epochs\t-31227.058 k..........\n",
      "20000 epochs\t-16705.352 k..........\n",
      "20100 epochs\t-49670.72 k..........\n",
      "20200 epochs\t-41909.552 k..........\n",
      "20300 epochs\t-16326.968 k..........\n",
      "20400 epochs\t-41977.172 k..........\n",
      "20500 epochs\t-35676.432 k..........\n",
      "20600 epochs\t-27588.944 k..........\n",
      "20700 epochs\t-37603.58 k..........\n",
      "20800 epochs\t-44044.32 k..........\n",
      "20900 epochs\t-53685.752 k..........\n"
     ]
    },
    {
     "name": "stdout",
     "output_type": "stream",
     "text": [
      "21000 epochs\t-19410.744 k..........\n",
      "21100 epochs\t-33360.952 k..........\n",
      "21200 epochs\t-34760.368 k..........\n",
      "21300 epochs\t-21327.358 k..........\n",
      "21400 epochs\t-18182.88 k..........\n",
      "21500 epochs\t-37219.052 k..........\n",
      "21600 epochs\t-25610.34 k..........\n",
      "21700 epochs\t-26828.25 k..........\n",
      "21800 epochs\t-24304.948 k..........\n",
      "21900 epochs\t-33615.852 k..........\n",
      "22000 epochs\t-27964.588 k..........\n",
      "22100 epochs\t-20513.318 k..........\n",
      "22200 epochs\t-21231.144 k..........\n",
      "22300 epochs\t-21334.846 k..........\n",
      "22400 epochs\t-40922.984 k..........\n",
      "22500 epochs\t-25582.326 k..........\n",
      "22600 epochs\t-21595.664 k..........\n",
      "22700 epochs\t-21984.668 k..........\n",
      "22800 epochs\t-21805.904 k..........\n",
      "22900 epochs\t-24591.396 k..........\n",
      "23000 epochs\t-25031.332 k..........\n",
      "23100 epochs\t-36764.688 k..........\n",
      "23200 epochs\t-23537.206 k..........\n",
      "23300 epochs\t-34173.184 k..........\n",
      "23400 epochs\t-20066.456 k..........\n",
      "23500 epochs\t-20081.204 k..........\n",
      "23600 epochs\t-26928.914 k..........\n",
      "23700 epochs\t-21966.608 k..........\n",
      "23800 epochs\t-24343.382 k..........\n",
      "23900 epochs\t-37165.664 k..........\n",
      "24000 epochs\t-24674.66 k..........\n",
      "24100 epochs\t-20845.648 k..........\n",
      "24200 epochs\t-21849.828 k..........\n",
      "24300 epochs\t-21800.644 k..........\n",
      "24400 epochs\t-21483.74 k..........\n",
      "24500 epochs\t-21602.538 k..........\n",
      "24600 epochs\t-21913.862 k..........\n",
      "24700 epochs\t-22581.484 k..........\n",
      "24800 epochs\t-30626.756 k..........\n",
      "24900 epochs\t-26031.688 k..........\n",
      "25000 epochs\t-28255.068 k..........\n",
      "25100 epochs\t-26734.264 k..........\n",
      "25200 epochs\t-24559.168 k..........\n",
      "25300 epochs\t-22966.024 k..........\n",
      "25400 epochs\t-24237.916 k..........\n",
      "25500 epochs\t-23523.33 k..........\n",
      "25600 epochs\t-26637.808 k..........\n",
      "25700 epochs\t-24522.148 k..........\n",
      "25800 epochs\t-26453.268 k..........\n",
      "25900 epochs\t-24385.092 k..........\n",
      "26000 epochs\t-22175.846 k..........\n",
      "26100 epochs\t-31047.092 k..........\n",
      "26200 epochs\t-21983.498 k..........\n",
      "26300 epochs\t-22198.552 k..........\n",
      "26400 epochs\t-29345.452 k..........\n",
      "26500 epochs\t-22312.152 k..........\n",
      "26600 epochs\t-26201.566 k..........\n",
      "26700 epochs\t-26200.53 k..........\n",
      "26800 epochs\t-21762.118 k..........\n",
      "26900 epochs\t-22868.098 k..........\n",
      "27000 epochs\t-27256.84 k..........\n",
      "27100 epochs\t-22378.268 k..........\n",
      "27200 epochs\t-25434.276 k..........\n",
      "27300 epochs\t-26491.886 k..........\n",
      "27400 epochs\t-23083.612 k..........\n",
      "27500 epochs\t-23751.344 k..........\n",
      "27600 epochs\t-23041.6 k..........\n",
      "27700 epochs\t-24055.064 k..........\n",
      "27800 epochs\t-23362.33 k..........\n",
      "27900 epochs\t-24780.094 k..........\n",
      "28000 epochs\t-23823.424 k..........\n",
      "28100 epochs\t-25363.814 k..........\n",
      "28200 epochs\t-23969.952 k..........\n",
      "28300 epochs\t-23070.114 k..........\n",
      "28400 epochs\t-23473.31 k..........\n",
      "28500 epochs\t-25789.146 k..........\n",
      "28600 epochs\t-23486.998 k..........\n",
      "28700 epochs\t-22705.248 k..........\n",
      "28800 epochs\t-24299.788 k..........\n",
      "28900 epochs\t-23572.856 k..........\n",
      "29000 epochs\t-23315.262 k..........\n",
      "29100 epochs\t-25937.132 k..........\n",
      "29200 epochs\t-25965.632 k..........\n",
      "29300 epochs\t-23818.964 k..........\n",
      "29400 epochs\t-25706.484 k..........\n",
      "29500 epochs\t-23578.294 k..........\n",
      "29600 epochs\t-25050.596 k..........\n",
      "29700 epochs\t-22841.83 k..........\n",
      "29800 epochs\t-23886.284 k..........\n",
      "29900 epochs\t-24265.848 k..........\n",
      "30000 epochs\t-27637.436 k..........\n",
      "30100 epochs\t-24617.184 k..........\n",
      "30200 epochs\t-23869.776 k..........\n",
      "30300 epochs\t-25948.268 k..........\n",
      "30400 epochs\t-26359.822 k..........\n",
      "30500 epochs\t-26601.764 k..........\n",
      "30600 epochs\t-22974.598 k..........\n",
      "30700 epochs\t-23638.924 k..........\n",
      "30800 epochs\t-22592.622 k..........\n",
      "30900 epochs\t-23735.38 k..........\n",
      "31000 epochs\t-23957.754 k..........\n",
      "31100 epochs\t-23399.188 k..........\n",
      "31200 epochs\t-23478.09 k..........\n",
      "31300 epochs\t-15947.8 k..........\n",
      "31400 epochs\t-26566.14 k..........\n",
      "31500 epochs\t-25989.894 k..........\n",
      "31600 epochs\t-25693.028 k..........\n",
      "31700 epochs\t-25662.72 k..........\n",
      "31800 epochs\t-24784.232 k..........\n",
      "31900 epochs\t-23925.764 k..........\n",
      "32000 epochs\t-24794.076 k..........\n",
      "32100 epochs\t-24389.2 k..........\n",
      "32200 epochs\t-25674.544 k..........\n",
      "32300 epochs\t-26377.968 k..........\n",
      "32400 epochs\t-26064.732 k..........\n",
      "32500 epochs\t-23672.532 k..........\n",
      "32600 epochs\t-23977.92 k..........\n",
      "32700 epochs\t-25667.01 k..........\n",
      "32800 epochs\t-25714.056 k..........\n",
      "32900 epochs\t-23083.792 k..........\n",
      "33000 epochs\t-26738.58 k..........\n",
      "33100 epochs\t-23652.18 k..........\n",
      "33200 epochs\t-24379.228 k..........\n",
      "33300 epochs\t-23906.264 k..........\n",
      "33400 epochs\t-24287.612 k..........\n",
      "33500 epochs\t-23423.264 k..........\n",
      "33600 epochs\t-25325.736 k..........\n",
      "33700 epochs\t-23086.388 k..........\n",
      "33800 epochs\t-22030.972 k..........\n",
      "33900 epochs\t-24849.736 k..........\n",
      "34000 epochs\t-25864.754 k..........\n",
      "34100 epochs\t-25538.894 k..........\n",
      "34200 epochs\t-24782.448 k..........\n",
      "34300 epochs\t-24726.826 k..........\n",
      "34400 epochs\t-25720.072 k..........\n",
      "34500 epochs\t-25036.31 k..........\n",
      "34600 epochs\t-25483.154 k..........\n",
      "34700 epochs\t-23906.57 k..........\n",
      "34800 epochs\t-24599.594 k..........\n",
      "34900 epochs\t-23866.398 k..........\n",
      "35000 epochs\t-24274.854 k..........\n",
      "35100 epochs\t-23782.92 k..........\n",
      "35200 epochs\t-24082.824 k..........\n",
      "35300 epochs\t-22805.444 k..........\n",
      "35400 epochs\t-24774.088 k..........\n",
      "35500 epochs\t-24534.124 k..........\n",
      "35600 epochs\t-26127.472 k..........\n",
      "35700 epochs\t-25264.528 k..........\n",
      "35800 epochs\t-23747.016 k..........\n",
      "35900 epochs\t-25438.212 k..........\n",
      "36000 epochs\t-23791.326 k..........\n",
      "36100 epochs\t-23879.39 k..........\n",
      "36200 epochs\t-23953.428 k..........\n",
      "36300 epochs\t-23760.864 k..........\n",
      "36400 epochs\t-24670.016 k..........\n",
      "36500 epochs\t-25127.93 k..........\n",
      "36600 epochs\t-24459.336 k..........\n",
      "36700 epochs\t-24497.536 k..........\n",
      "36800 epochs\t-26846.074 k..........\n",
      "36900 epochs\t-25669.424 k..........\n",
      "37000 epochs\t-25948.616 k..........\n",
      "37100 epochs\t-23156.59 k..........\n",
      "37200 epochs\t-23333.664 k..........\n",
      "37300 epochs\t-27356.508 k..........\n",
      "37400 epochs\t-24383.868 k..........\n",
      "37500 epochs\t-25045.136 k..........\n",
      "37600 epochs\t-25174.176 k..........\n",
      "37700 epochs\t-25096.128 k..........\n",
      "37800 epochs\t-24466.096 k..........\n",
      "37900 epochs\t-25825.488 k..........\n",
      "38000 epochs\t-25930.836 k..........\n",
      "38100 epochs\t-24244.772 k..........\n",
      "38200 epochs\t-22710.78 k..........\n",
      "38300 epochs\t-24337.832 k..........\n",
      "38400 epochs\t-24036.408 k..........\n",
      "38500 epochs\t-24547.808 k..........\n",
      "38600 epochs\t-25037.17 k..........\n",
      "38700 epochs\t-23478.296 k..........\n",
      "38800 epochs\t-24235.298 k..........\n",
      "38900 epochs\t-23653.492 k..........\n",
      "39000 epochs\t-24240.72 k..........\n",
      "39100 epochs\t-23217.2 k..........\n",
      "39200 epochs\t-22638.564 k..........\n",
      "39300 epochs\t-26063.412 k..........\n",
      "39400 epochs\t-24734.708 k..........\n",
      "39500 epochs\t-23259.708 k..........\n",
      "39600 epochs\t-22011.368 k..........\n",
      "39700 epochs\t-25490.228 k..........\n",
      "39800 epochs\t-26139.058 k..........\n",
      "39900 epochs\t-22384.864 k..........\n",
      "40000 epochs\t-24414.36 k..........\n",
      "40100 epochs\t-22989.964 k..........\n",
      "40200 epochs\t-25261.124 k..........\n",
      "40300 epochs\t-24518.616 k..........\n",
      "40400 epochs\t-24436.79 k..........\n",
      "40500 epochs\t-24662.84 k..........\n",
      "40600 epochs\t-23771.966 k..........\n",
      "40700 epochs\t-23585.972 k..........\n",
      "40800 epochs\t-25127.682 k..........\n",
      "40900 epochs\t-22830.256 k..........\n",
      "41000 epochs\t-24160.04 k..........\n",
      "41100 epochs\t-23983.302 k..........\n",
      "41200 epochs\t-21159.568 k..........\n",
      "41300 epochs\t-26568.872 k..........\n",
      "41400 epochs\t-24507.488 k..........\n",
      "41500 epochs\t-14031.256 k..........\n",
      "41600 epochs\t-26625.484 k..........\n",
      "41700 epochs\t-23546.334 k..........\n",
      "41800 epochs\t-23170.348 k..........\n",
      "41900 epochs\t-25566.508 k..........\n",
      "42000 epochs\t-25123.8 k..........\n",
      "42100 epochs\t-26344.572 k..........\n",
      "42200 epochs\t-23231.606 k..........\n",
      "42300 epochs\t-23763.168 k..........\n",
      "42400 epochs\t-23825.236 k..........\n",
      "42500 epochs\t-24125.14 k..........\n",
      "42600 epochs\t-25380.756 k..........\n",
      "42700 epochs\t-22655.03 k..........\n",
      "42800 epochs\t-26468.116 k..........\n",
      "42900 epochs\t-25486.028 k..........\n",
      "43000 epochs\t-24534.134 k..........\n",
      "43100 epochs\t-25655.168 k..........\n",
      "43200 epochs\t-24948.996 k..........\n",
      "43300 epochs\t-25913.548 k..........\n",
      "43400 epochs\t-23714.868 k..........\n",
      "43500 epochs\t-23130.012 k..........\n",
      "43600 epochs\t-24854.396 k..........\n",
      "43700 epochs\t-23556.604 k..........\n"
     ]
    },
    {
     "name": "stdout",
     "output_type": "stream",
     "text": [
      "43800 epochs\t-23605.77 k..........\n",
      "43900 epochs\t-25450.342 k..........\n",
      "44000 epochs\t-23797.316 k..........\n",
      "44100 epochs\t-25066.552 k..........\n",
      "44200 epochs\t-25168.426 k..........\n",
      "44300 epochs\t-25478.19 k..........\n",
      "44400 epochs\t-23205.56 k..........\n",
      "44500 epochs\t-25367.476 k..........\n",
      "44600 epochs\t-24445.908 k..........\n",
      "44700 epochs\t-25645.14 k..........\n",
      "44800 epochs\t-23536.02 k..........\n",
      "44900 epochs\t-25681.53 k..........\n",
      "45000 epochs\t-24794.138 k..........\n",
      "45100 epochs\t-23380.896 k..........\n",
      "45200 epochs\t-26435.236 k..........\n",
      "45300 epochs\t-21743.524 k..........\n",
      "45400 epochs\t-25890.586 k..........\n",
      "45500 epochs\t-23674.806 k..........\n",
      "45600 epochs\t-23661.096 k..........\n",
      "45700 epochs\t-24285.392 k..........\n",
      "45800 epochs\t-25732.072 k..........\n",
      "45900 epochs\t-23049.06 k..........\n",
      "46000 epochs\t-23778.17 k..........\n",
      "46100 epochs\t-24159.528 k..........\n",
      "46200 epochs\t-21655.144 k..........\n",
      "46300 epochs\t-25899.582 k..........\n",
      "46400 epochs\t-25000.512 k..........\n",
      "46500 epochs\t-22924.272 k..........\n",
      "46600 epochs\t-17434.84 k..........\n",
      "46700 epochs\t-24264.904 k..........\n",
      "46800 epochs\t-25379.714 k..........\n",
      "46900 epochs\t-25327.684 k..........\n",
      "47000 epochs\t-23379.416 k..........\n",
      "47100 epochs\t-25250.096 k..........\n",
      "47200 epochs\t-24443.99 k..........\n",
      "47300 epochs\t-24242.2 k..........\n",
      "47400 epochs\t-24094.484 k..........\n",
      "47500 epochs\t-24385.012 k..........\n",
      "47600 epochs\t-24483.07 k..........\n",
      "47700 epochs\t-25167.408 k..........\n",
      "47800 epochs\t-23895.086 k..........\n",
      "47900 epochs\t-23503.61 k..........\n",
      "48000 epochs\t-24478.358 k..........\n",
      "48100 epochs\t-25144.278 k..........\n",
      "48200 epochs\t-26367.324 k..........\n",
      "48300 epochs\t-23836.2 k..........\n",
      "48400 epochs\t-24396.064 k..........\n",
      "48500 epochs\t-23453.88 k..........\n",
      "48600 epochs\t-20196.92 k..........\n",
      "48700 epochs\t-24986.896 k..........\n",
      "48800 epochs\t-23172.164 k..........\n",
      "48900 epochs\t-24055.23 k..........\n",
      "49000 epochs\t-23250.44 k..........\n",
      "49100 epochs\t-23731.04 k..........\n",
      "49200 epochs\t-26627.022 k..........\n",
      "49300 epochs\t-22398.52 k..........\n",
      "49400 epochs\t-23503.614 k..........\n",
      "49500 epochs\t-24245.596 k..........\n",
      "49600 epochs\t-24898.466 k..........\n",
      "49700 epochs\t-24664.024 k..........\n",
      "49800 epochs\t-25325.602 k..........\n",
      "49900 epochs\t-25154.078 k..........\n",
      "50000 epochs\t-25586.532 k..........\n",
      "50100 epochs\t-25103.756 k..........\n",
      "50200 epochs\t-25252.788 k..........\n",
      "50300 epochs\t-25390.224 k..........\n",
      "50400 epochs\t-21729.208 k..........\n",
      "50500 epochs\t-21893.324 k..........\n",
      "50600 epochs\t-23718.084 k..........\n",
      "50700 epochs\t-24898.748 k..........\n",
      "50800 epochs\t-25628.64 k..........\n",
      "50900 epochs\t-25291.314 k..........\n",
      "51000 epochs\t-25449.098 k..........\n",
      "51100 epochs\t-26723.354 k..........\n",
      "51200 epochs\t-24461.688 k..........\n",
      "51300 epochs\t-23296.07 k..........\n",
      "51400 epochs\t-23361.352 k..........\n",
      "51500 epochs\t-22440.038 k..........\n",
      "51600 epochs\t-24360.96 k..........\n",
      "51700 epochs\t-24263.716 k..........\n",
      "51800 epochs\t-25583.94 k..........\n",
      "51900 epochs\t-24294.652 k..........\n",
      "52000 epochs\t-26311.324 k..........\n",
      "52100 epochs\t-22072.986 k..........\n",
      "52200 epochs\t-23386.266 k..........\n",
      "52300 epochs\t-25217.592 k..........\n",
      "52400 epochs\t-26544.116 k..........\n",
      "52500 epochs\t-24278.868 k..........\n",
      "52600 epochs\t-24664.26 k..........\n",
      "52700 epochs\t-24845.96 k..........\n",
      "52800 epochs\t-24232.264 k..........\n",
      "52900 epochs\t-24389.628 k..........\n",
      "53000 epochs\t-24110.792 k..........\n",
      "53100 epochs\t-25258.208 k..........\n",
      "53200 epochs\t-23191.658 k..........\n",
      "53300 epochs\t-24293.468 k..........\n",
      "53400 epochs\t-26782.776 k..........\n",
      "53500 epochs\t-22841.048 k..........\n",
      "53600 epochs\t-25209.108 k..........\n",
      "53700 epochs\t-25526.03 k..........\n",
      "53800 epochs\t-20711.096 k..........\n",
      "53900 epochs\t-26803.222 k..........\n",
      "54000 epochs\t-23577.096 k..........\n",
      "54100 epochs\t-26263.462 k..........\n",
      "54200 epochs\t-25956.988 k..........\n",
      "54300 epochs\t-26159.292 k..........\n",
      "54400 epochs\t-24647.414 k..........\n",
      "54500 epochs\t-24875.38 k..........\n",
      "54600 epochs\t-26029.108 k..........\n",
      "54700 epochs\t-24701.06 k..........\n",
      "54800 epochs\t-26475.568 k..........\n",
      "54900 epochs\t-23491.176 k..........\n",
      "55000 epochs\t-24021.04 k..........\n",
      "55100 epochs\t-22814.97 k..........\n",
      "55200 epochs\t-26233.856 k..........\n",
      "55300 epochs\t-25262.058 k..........\n",
      "55400 epochs\t-24747.206 k..........\n",
      "55500 epochs\t-25233.61 k..........\n",
      "55600 epochs\t-24877.946 k..........\n",
      "55700 epochs\t-25995.288 k..........\n",
      "55800 epochs\t-25890.654 k..........\n",
      "55900 epochs\t-23881.91 k..........\n",
      "56000 epochs\t-23564.288 k..........\n",
      "56100 epochs\t-24455.056 k..........\n",
      "56200 epochs\t-22305.008 k..........\n",
      "56300 epochs\t-24061.858 k..........\n",
      "56400 epochs\t-23604.996 k..........\n",
      "56500 epochs\t-25577.63 k..........\n",
      "56600 epochs\t-25071.952 k..........\n",
      "56700 epochs\t-24170.268 k..........\n",
      "56800 epochs\t-24828.534 k..........\n",
      "56900 epochs\t-23261.036 k..........\n",
      "57000 epochs\t-22601.228 k..........\n",
      "57100 epochs\t-25296.22 k..........\n",
      "57200 epochs\t-25308.844 k..........\n",
      "57300 epochs\t-23302.308 k..........\n",
      "57400 epochs\t-24108.522 k..........\n",
      "57500 epochs\t-25622.474 k..........\n",
      "57600 epochs\t-23556.272 k..........\n",
      "57700 epochs\t-23439.672 k..........\n",
      "57800 epochs\t-23869.348 k..........\n",
      "57900 epochs\t-25507.86 k..........\n",
      "58000 epochs\t-25219.29 k..........\n",
      "58100 epochs\t-24445.752 k..........\n",
      "58200 epochs\t-23665.344 k..........\n",
      "58300 epochs\t-24799.19 k..........\n",
      "58400 epochs\t-24757.956 k..........\n",
      "58500 epochs\t-26034.192 k..........\n",
      "58600 epochs\t-23675.094 k..........\n",
      "58700 epochs\t-24632.276 k..........\n",
      "58800 epochs\t-40851.472 k..........\n",
      "58900 epochs\t-23527.132 k..........\n",
      "59000 epochs\t-26497.066 k..........\n",
      "59100 epochs\t-23175.834 k..........\n",
      "59200 epochs\t-27466.642 k..........\n",
      "59300 epochs\t-20173.776 k..........\n",
      "59400 epochs\t-24662.846 k..........\n",
      "59500 epochs\t-25650.896 k..........\n",
      "59600 epochs\t-25458.74 k..........\n",
      "59700 epochs\t-25547.736 k..........\n",
      "59800 epochs\t-21867.014 k..........\n",
      "59900 epochs\t-23812.404 k..........\n",
      "60000 epochs\t-24866.364 k"
     ]
    }
   ],
   "source": [
    "os.environ[\"CUDA_VISIBLE_DEVICES\"] = '2'\n",
    "if tf.test.is_gpu_available()==True:\n",
    "    tf_config = tf.ConfigProto()\n",
    "    tf_config.gpu_options.allow_growth=True\n",
    "    tf.Session(config=tf_config)\n",
    "with tf.Session(config=tf_config) as sess:\n",
    "        posterior_mu,posterior_sigma,posterior_qw = EpiAnno.train(qmu,qsigma,qw,elbo,sess,learning_rate,num_epochs,verbose)"
   ]
  },
  {
   "cell_type": "markdown",
   "metadata": {
    "ExecuteTime": {
     "end_time": "2021-07-21T07:33:28.089487Z",
     "start_time": "2021-07-21T07:33:28.084951Z"
    }
   },
   "source": [
    "# Predict labels by EpiAnno"
   ]
  },
  {
   "cell_type": "code",
   "execution_count": 10,
   "metadata": {
    "ExecuteTime": {
     "end_time": "2021-07-21T13:33:05.217552Z",
     "start_time": "2021-07-21T13:33:05.203818Z"
    }
   },
   "outputs": [],
   "source": [
    "def predict_label(posterior_qw,posterior_mu,posterior_sigma,test_data,le):\n",
    "    select = np.random.randint(0,1000,10)\n",
    "    pred_target_test = []\n",
    "    for i in range(10):\n",
    "        pred_z_test = EpiAnno.predict_z(posterior_qw[select[i]],test_data)\n",
    "        pred_target_test.append(EpiAnno.predict_target(posterior_mu[select[i]],posterior_sigma[select[i]],pred_z_test))\n",
    "    pred_target_test = np.array(pred_target_test)\n",
    "    pred_target = []\n",
    "    for i in range(pred_target_test.shape[1]):\n",
    "        b = np.bincount(pred_target_test[:,i])\n",
    "        pred_target.append(np.argmax(b))\n",
    "    pred_label = le.inverse_transform(np.array(pred_target))\n",
    "    return pred_label"
   ]
  },
  {
   "cell_type": "code",
   "execution_count": 11,
   "metadata": {
    "ExecuteTime": {
     "end_time": "2021-07-21T13:35:37.576271Z",
     "start_time": "2021-07-21T13:33:05.220817Z"
    }
   },
   "outputs": [],
   "source": [
    "cerebellum_pred_label = predict_label(posterior_qw,posterior_mu,posterior_sigma,cerebellum_data,le)\n",
    "wholebrain1_pred_label = predict_label(posterior_qw,posterior_mu,posterior_sigma,wholebrain1_data,le)\n",
    "wholebrain2_pred_label = predict_label(posterior_qw,posterior_mu,posterior_sigma,wholebrain2_data,le)\n",
    "#prefrontalcortex_pred_label = predict_label(posterior_qw,posterior_mu,posterior_sigma,prefrontalcortex_data,le)"
   ]
  },
  {
   "cell_type": "code",
   "execution_count": 12,
   "metadata": {
    "ExecuteTime": {
     "end_time": "2021-07-21T13:35:37.617341Z",
     "start_time": "2021-07-21T13:35:37.580375Z"
    }
   },
   "outputs": [
    {
     "name": "stdout",
     "output_type": "stream",
     "text": [
      "accuracy of cere bellum dataset:  0.8451053283767038\n",
      "accuracy of whole brain 1 dataset:  0.9011351153423655\n",
      "accuracy of whole brain 2 dataset:  0.9130695443645084\n"
     ]
    }
   ],
   "source": [
    "from sklearn import metrics\n",
    "print(\"accuracy of cere bellum dataset: \",metrics.accuracy_score(cerebellum_pred_label,cerebellum_label))\n",
    "print(\"accuracy of whole brain 1 dataset: \",metrics.accuracy_score(wholebrain1_pred_label,wholebrain1_label))\n",
    "print(\"accuracy of whole brain 2 dataset: \",metrics.accuracy_score(wholebrain2_pred_label,wholebrain2_label))\n",
    "#print(\"accuracy of prefrontal cortex dataset: \",metrics.accuracy_score(prefrontalcortex_pred_label,prefrontalcortex_label))"
   ]
  },
  {
   "cell_type": "code",
   "execution_count": 13,
   "metadata": {
    "ExecuteTime": {
     "end_time": "2021-07-21T13:35:37.647257Z",
     "start_time": "2021-07-21T13:35:37.621359Z"
    }
   },
   "outputs": [
    {
     "name": "stdout",
     "output_type": "stream",
     "text": [
      "kappa of cere bellum dataset:  0.7787625176003052\n",
      "kappa of whole brain 1 dataset:  0.8686512406051267\n",
      "kappa of whole brain 2 dataset:  0.8862585719915613\n"
     ]
    }
   ],
   "source": [
    "print(\"kappa of cere bellum dataset: \",metrics.cohen_kappa_score(cerebellum_pred_label,cerebellum_label))\n",
    "print(\"kappa of whole brain 1 dataset: \",metrics.cohen_kappa_score(wholebrain1_pred_label,wholebrain1_label))\n",
    "print(\"kappa of whole brain 2 dataset: \",metrics.cohen_kappa_score(wholebrain2_pred_label,wholebrain2_label))\n",
    "#print(\"kappa of prefrontal cortex dataset: \",metrics.cohen_kappa_score(prefrontalcortex_pred_label,prefrontalcortex_label))"
   ]
  },
  {
   "cell_type": "code",
   "execution_count": 14,
   "metadata": {
    "ExecuteTime": {
     "end_time": "2021-07-21T13:35:37.688766Z",
     "start_time": "2021-07-21T13:35:37.649714Z"
    }
   },
   "outputs": [
    {
     "name": "stdout",
     "output_type": "stream",
     "text": [
      "mF1 of cere bellum dataset:  0.8787878787878788\n",
      "mF1 of whole brain 1 dataset:  0.963144963144963\n",
      "mF1 of whole brain 2 dataset:  0.9454545454545454\n"
     ]
    }
   ],
   "source": [
    "def f1_score(test_label,pred_label):\n",
    "    unique = np.unique(test_label)\n",
    "    f1_score_list = []\n",
    "    for label in unique:\n",
    "        f1 = metrics.f1_score(np.array(test_label)==label,np.array(pred_label)==label)\n",
    "        f1_score_list.append(f1)\n",
    "    return np.median(f1_score_list)\n",
    "print(\"mF1 of cere bellum dataset: \",f1_score(cerebellum_pred_label,cerebellum_label))\n",
    "print(\"mF1 of whole brain 1 dataset: \",f1_score(wholebrain1_pred_label,wholebrain1_label))\n",
    "print(\"mF1 of whole brain 2 dataset: \",f1_score(wholebrain2_pred_label,wholebrain2_label))\n",
    "#print(\"mF1 of prefrontal cortex dataset: \",f1_score(prefrontalcortex_pred_label,prefrontalcortex_label))"
   ]
  },
  {
   "cell_type": "markdown",
   "metadata": {},
   "source": [
    "# Visualization of latent features"
   ]
  },
  {
   "cell_type": "code",
   "execution_count": 15,
   "metadata": {
    "ExecuteTime": {
     "end_time": "2021-07-21T13:35:38.241507Z",
     "start_time": "2021-07-21T13:35:37.691482Z"
    }
   },
   "outputs": [],
   "source": [
    "forebrain_latent_feature = EpiAnno.predict_z(posterior_qw[0],train_data)"
   ]
  },
  {
   "cell_type": "code",
   "execution_count": 16,
   "metadata": {
    "ExecuteTime": {
     "end_time": "2021-07-21T13:35:40.278147Z",
     "start_time": "2021-07-21T13:35:38.245022Z"
    }
   },
   "outputs": [
    {
     "data": {
      "image/png": "[encoded data removed]",
      "text/plain": [
       "<Figure size 720x216 with 5 Axes>"
      ]
     },
     "metadata": {
      "needs_background": "light"
     },
     "output_type": "display_data"
    }
   ],
   "source": [
    "import heatmap\n",
    "heatmap.plot_heatmap(forebrain_latent_feature.T, np.array(train_label), vmin=-0.05, vmax=0.05, figsize=(10, 3), legend_font=6, cmap='RdBu_r', \n",
    "             bbox_to_anchor=(1.1, 1.1), position=(0.98, 0.2, .11, .03), ncol=1, \n",
    "             yticklabels=range(1, 11), row_cluster=False, ylabel='Feature dimension', cax_title='Feature value',save = False)"
   ]
  },
  {
   "cell_type": "markdown",
   "metadata": {},
   "source": [
    "# UMAP visualization"
   ]
  },
  {
   "cell_type": "markdown",
   "metadata": {},
   "source": [
    "forebrain(training) dataset"
   ]
  },
  {
   "cell_type": "code",
   "execution_count": 17,
   "metadata": {
    "ExecuteTime": {
     "end_time": "2021-07-21T13:36:00.006545Z",
     "start_time": "2021-07-21T13:35:40.281749Z"
    }
   },
   "outputs": [
    {
     "data": {
      "text/plain": [
       "<matplotlib.legend.Legend at 0x7fec0454e048>"
      ]
     },
     "execution_count": 17,
     "metadata": {},
     "output_type": "execute_result"
    },
    {
     "data": {
      "image/png": "[encoded data removed]",
      "text/plain": [
       "<Figure size 432x432 with 1 Axes>"
      ]
     },
     "metadata": {
      "needs_background": "light"
     },
     "output_type": "display_data"
    }
   ],
   "source": [
    "import umap\n",
    "import seaborn as sns\n",
    "import pandas as pd\n",
    "import matplotlib.pyplot as plt\n",
    "fig = plt.figure()\n",
    "fig.set_figwidth(6)\n",
    "fig.set_figheight(6)\n",
    "u_trans = umap.UMAP(n_components=2,random_state = 1234)\n",
    "train_data_umap = u_trans.fit_transform(forebrain_latent_feature)\n",
    "df = {'UMAP1':train_data_umap[:, 0], 'UMAP2':train_data_umap[:, 1], 'label':train_label}\n",
    "df = pd.DataFrame(df)\n",
    "ax = sns.scatterplot(x=\"UMAP1\", y=\"UMAP2\", hue=\"label\",s=10,linewidth=0.1,hue_order = ['IN','EX','AC','MG','OC'], data=df)\n",
    "ax.legend()"
   ]
  },
  {
   "cell_type": "code",
   "execution_count": 18,
   "metadata": {
    "ExecuteTime": {
     "end_time": "2021-07-21T13:36:28.308550Z",
     "start_time": "2021-07-21T13:36:00.010006Z"
    }
   },
   "outputs": [],
   "source": [
    "cerebellum_latent_feature = EpiAnno.predict_z(posterior_qw[0],cerebellum_data)\n",
    "wholebrain1_latent_feature = EpiAnno.predict_z(posterior_qw[0],wholebrain1_data)\n",
    "wholebrain2_latent_feature = EpiAnno.predict_z(posterior_qw[0],wholebrain2_data)\n",
    "#prefrontalcortex_latent_feature = EpiAnno.predict_z(posterior_qw[0],prefrontalcortex_data)\n",
    "cerebellum_umap = u_trans.transform(cerebellum_latent_feature)\n",
    "wholebrain1_umap = u_trans.transform(wholebrain1_latent_feature)\n",
    "wholebrain2_umap = u_trans.transform(wholebrain2_latent_feature)\n",
    "#prefrontalcortex_umap = u_trans.transform(prefrontalcortex_latent_feature)"
   ]
  },
  {
   "cell_type": "markdown",
   "metadata": {
    "ExecuteTime": {
     "end_time": "2021-07-21T08:19:29.084282Z",
     "start_time": "2021-07-21T08:19:14.558327Z"
    }
   },
   "source": [
    "whole brain 1(test) dataset"
   ]
  },
  {
   "cell_type": "code",
   "execution_count": 19,
   "metadata": {
    "ExecuteTime": {
     "end_time": "2021-07-21T13:36:28.890163Z",
     "start_time": "2021-07-21T13:36:28.314946Z"
    }
   },
   "outputs": [
    {
     "data": {
      "text/plain": [
       "<matplotlib.legend.Legend at 0x7fec6c25e7b8>"
      ]
     },
     "execution_count": 19,
     "metadata": {},
     "output_type": "execute_result"
    },
    {
     "data": {
      "image/png": "[encoded data removed]",
      "text/plain": [
       "<Figure size 432x432 with 1 Axes>"
      ]
     },
     "metadata": {
      "needs_background": "light"
     },
     "output_type": "display_data"
    }
   ],
   "source": [
    "fig = plt.figure()\n",
    "fig.set_figwidth(6)\n",
    "fig.set_figheight(6)\n",
    "df = {'UMAP1':wholebrain1_umap[:, 0], 'UMAP2':wholebrain1_umap[:, 1], 'label':wholebrain1_label}\n",
    "df = pd.DataFrame(df)\n",
    "ax = sns.scatterplot(x=\"UMAP1\", y=\"UMAP2\", hue=\"label\",s=10,linewidth=0.1,hue_order = ['IN','EX','AC','MG','OC'], data=df)\n",
    "ax.legend()"
   ]
  }
 ],
 "metadata": {
  "kernelspec": {
   "display_name": "Python 3",
   "language": "python",
   "name": "python3"
  },
  "language_info": {
   "codemirror_mode": {
    "name": "ipython",
    "version": 3
   },
   "file_extension": ".py",
   "mimetype": "text/x-python",
   "name": "python",
   "nbconvert_exporter": "python",
   "pygments_lexer": "ipython3",
   "version": "3.6.8"
  },
  "toc": {
   "base_numbering": 1,
   "nav_menu": {},
   "number_sections": true,
   "sideBar": true,
   "skip_h1_title": false,
   "title_cell": "Table of Contents",
   "title_sidebar": "Contents",
   "toc_cell": false,
   "toc_position": {},
   "toc_section_display": true,
   "toc_window_display": false
  }
 },
 "nbformat": 4,
 "nbformat_minor": 2
}
